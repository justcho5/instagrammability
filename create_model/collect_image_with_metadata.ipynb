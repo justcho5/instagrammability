{
 "cells": [
  {
   "cell_type": "markdown",
   "metadata": {},
   "source": [
    "## In this notebook, images and their corresponding metadata are organized. We take note of the actual existing images, combine with available metadata, and scraped follower counts. After merging and dropping image duplicates, we obtain 7702 total images."
   ]
  },
  {
   "cell_type": "code",
   "execution_count": 10,
   "metadata": {
    "collapsed": true
   },
   "outputs": [],
   "source": [
    "import pandas as pd\n",
    "import numpy as np\n",
    "import os\n",
    "from PIL import Image\n",
    "import json\n",
    "from pandas.io.json import json_normalize\n",
    "import ast\n",
    "\n",
    "IMAGE_DIR = \"./images/training/resized/\""
   ]
  },
  {
   "cell_type": "markdown",
   "metadata": {},
   "source": [
    "### Dataframe (df_imagename) of all existing images: 11181 Images\n"
   ]
  },
  {
   "cell_type": "code",
   "execution_count": 11,
   "metadata": {},
   "outputs": [
    {
     "name": "stdout",
     "output_type": "stream",
     "text": [
      "./data/data/cablausanne\n",
      "./data/data/elyseemusee\n",
      "./data/data/espacearlaud\n",
      "./data/data/hermitage_lausanne\n",
      "./data/data/mcbalausanne\n",
      "./data/data/mudaclausanne\n",
      "./data/data/olympicmuseum\n",
      "Number of existing images: 11181\n"
     ]
    }
   ],
   "source": [
    "# Directory of museum folders\n",
    "im_dirs = os.listdir(IMAGE_DIR)\n",
    "\n",
    "folder = []\n",
    "for f in im_dirs:\n",
    "    if f != '.DS_Store':\n",
    "        print(IMAGE_DIR+f)\n",
    "        folder = folder + os.listdir(IMAGE_DIR+f)   \n",
    "        \n",
    "# df_imagename : Dataframe of existing images        \n",
    "df_imagename = pd.DataFrame({\"filename\": folder})\n",
    "df_imagename.head()\n",
    "print(\"Number of existing images: {}\".format(df_imagename.filename.size))"
   ]
  },
  {
   "cell_type": "code",
   "execution_count": 12,
   "metadata": {
    "collapsed": true
   },
   "outputs": [],
   "source": [
    "# Takes metadata for museum and returns a dataframe\n",
    "def load_metadata(file, folder):\n",
    "    data = json.load(file)\n",
    "    df = pd.DataFrame.from_dict(json_normalize(data), orient = 'columns')\n",
    "    df['museum'] = folder\n",
    "    df = df.rename(index=str, columns={\"id\": \"insta_id\"})\n",
    "    df.drop(labels = ['comments_disabled', 'edge_media_preview_like.count',\n",
    "       'edge_media_to_caption.edges', 'edge_media_to_comment.count', 'is_video', 'thumbnail_resources', 'thumbnail_src', 'urls',\n",
    "       'video_view_count'], axis = 1, inplace = True)\n",
    "    df['display_url'] = df['display_url'].str.split('/').str[-1]\n",
    "    return df\n",
    "       "
   ]
  },
  {
   "cell_type": "markdown",
   "metadata": {},
   "source": [
    "### Dataframe (df) of images in metadata: Metadata for 8362 images\n"
   ]
  },
  {
   "cell_type": "code",
   "execution_count": 21,
   "metadata": {},
   "outputs": [
    {
     "name": "stdout",
     "output_type": "stream",
     "text": [
      "Loading cablausanne images\n",
      "Loading elyseemusee images\n",
      "Loading espacearlaud images\n",
      "Loading hermitage_lausanne images\n",
      "Loading mcbalausanne images\n",
      "Loading mudaclausanne images\n",
      "Loading olympicmuseum images\n",
      "Number of images in metadata: 8362\n"
     ]
    }
   ],
   "source": [
    "# Load all the metadata\n",
    "df = pd.DataFrame()\n",
    "for folder in im_dirs:\n",
    "    if folder != \".DS_Store\":\n",
    "        print(\"Loading {} images\".format(folder))\n",
    "        meta_file = open(\"{image_dir}{folder}/{folder}.json\".format(image_dir=IMAGE_DIR, folder = folder))\n",
    "        if df.empty:\n",
    "            df = load_metadata(meta_file, folder)\n",
    "        else:\n",
    "            df = pd.concat([df, load_metadata(meta_file, folder)], ignore_index = True)\n",
    "        columns = ['height',\n",
    "                   'width',\n",
    "                   'filename',\n",
    "                   'liked_count',\n",
    "                   'insta_id',\n",
    "                   'user_id',\n",
    "                   'shortcode',\n",
    "                   'tags',\n",
    "                   'timestamp',\n",
    "                   'museum'] \n",
    "    \n",
    "df.to_csv('./images/training/data/merged_metadata.csv', header = columns)\n",
    "df.head()\n",
    "print(\"Number of images in metadata: {}\".format(df.shortcode.size))"
   ]
  },
  {
   "cell_type": "markdown",
   "metadata": {},
   "source": [
    "## Script for scraping follower counts. Some of the shortcodes used were not valid, possibly because the images were removed."
   ]
  },
  {
   "cell_type": "code",
   "execution_count": 14,
   "metadata": {
    "collapsed": true
   },
   "outputs": [],
   "source": [
    "from selenium import webdriver\n",
    "from selenium.webdriver.support import expected_conditions as EC\n",
    "from selenium.webdriver.common.by import By\n",
    "from selenium.webdriver.support.ui import WebDriverWait\n",
    "from lxml import html\n",
    "\n",
    "import csv\n",
    "def write_out_csv(data, filename_base, fieldnames):\n",
    "    print(\"Writing to output file %s.csv\" % filename_base)\n",
    "    with open(\"%s.csv\" % filename_base, \"w\") as csvfile:\n",
    "        fields = fieldnames\n",
    "        writer = csv.DictWriter(csvfile, fieldnames=fields)\n",
    "        writer.writeheader()\n",
    "        for row in data:\n",
    "            writer.writerow(row)\n",
    "            \n",
    "def scrape_followers(lst, output_filename):\n",
    "    instagram_data = []\n",
    "    error_sc = []\n",
    "    for code in lst:\n",
    "        url = \"https://instagram.com/p/\" + code\n",
    "        try:\n",
    "            browser.get(url)\n",
    "            elem = wait.until(\n",
    "                EC.element_to_be_clickable(\n",
    "                    (By.XPATH, '//div[@class = \"e1e1d\"]//a[@class = \"FPmhX notranslate nJAzx\"]')\n",
    "                )\n",
    "            )\n",
    "\n",
    "            elem.click()\n",
    "            elem = wait.until(\n",
    "                EC.element_to_be_clickable((By.XPATH, '//div[@class = \"v9tJq \"]'))\n",
    "            )\n",
    "            el = browser.find_element_by_xpath(\"//*\")\n",
    "            parser = html.fromstring(el.get_attribute(\"outerHTML\"))\n",
    "            # print(el.get_attribute(\"outerHTML\"))\n",
    "            raw_followers = parser.xpath(\n",
    "                './/ul[@class=\"k9GMp \"]/li[position()=2]//span[@class = \"g47SY \"]/@title'\n",
    "            )[0].replace(\",\", \"\")\n",
    "\n",
    "            data = {\"shortcode\": code, \"followers\": int(raw_followers)}\n",
    "            instagram_data.append(data)\n",
    "        except:\n",
    "            error_sc.append(code)\n",
    "            pass\n",
    "\n",
    "\n",
    "    browser.close()\n",
    "    fields = [\"shortcode\", \"followers\"]\n",
    "    print(error_sc)\n",
    "    write_out_csv(instagram_data, \"{}\".format(output_filename), fields)\n"
   ]
  },
  {
   "cell_type": "code",
   "execution_count": null,
   "metadata": {
    "collapsed": true
   },
   "outputs": [],
   "source": [
    "# Uncomment the code below to run scraping for a list of shortcodes\n",
    "# Load the shortcodes of images for which the followers was not scraped\n",
    "\n",
    "# with open('error_sc4.txt', 'r') as f:\n",
    "#     error_sc4 = ast.literal_eval(f.read())\n",
    "    \n",
    "# print(len(error_sc4))\n",
    "\n",
    "# browser = webdriver.Chrome()\n",
    "# wait = WebDriverWait(browser, 15)\n",
    "# scrape_followers(error_sc3, \"followers4\")"
   ]
  },
  {
   "cell_type": "markdown",
   "metadata": {},
   "source": [
    "### Dataframe (df_followers) of follower number for each shortcode: 8138 counts, 8068 shortcodes are unique\n"
   ]
  },
  {
   "cell_type": "code",
   "execution_count": 24,
   "metadata": {
    "collapsed": true
   },
   "outputs": [],
   "source": [
    "# Follower counts are merged\n",
    "# lst_followers = [pd.read_csv(\"followers.csv\"), pd.read_csv(\"followers2.csv\"), pd.read_csv(\"followers3.csv\"), pd.read_csv(\"followers4.csv\")]\n",
    "# df_followers = pd.concat(lst_followers, ignore_index = True)\n",
    "# df_followers.to_csv(\"scraped_follower_counts.csv\")\n",
    "\n",
    "\n",
    "# Follower count df: df_followers\n",
    "# Metadata df: df_images\n",
    "df_followers = pd.read_csv(\"./images/training/data/scraped_follower_counts.csv\")\n",
    "df_images = pd.read_csv(\"./images/training/data/merged_metadata.csv\")"
   ]
  },
  {
   "cell_type": "code",
   "execution_count": 25,
   "metadata": {},
   "outputs": [
    {
     "name": "stdout",
     "output_type": "stream",
     "text": [
      "Number of Follower counts 8138\n",
      "Number of Follower counts based on unique shortcodes 8068\n",
      "Number of Images with metadata 8362\n",
      "Number of actual Images 11181\n"
     ]
    }
   ],
   "source": [
    "print(\"Number of Follower counts\", df_followers.shortcode.size)\n",
    "print(\"Number of Follower counts based on unique shortcodes\", df_followers.shortcode.unique().size)\n",
    "print(\"Number of Images with metadata\", df_images.shortcode.size)\n",
    "print(\"Number of actual Images\", df_imagename.size)"
   ]
  },
  {
   "cell_type": "markdown",
   "metadata": {},
   "source": [
    "### Dataframe (df_final): merge metadata with scraped followers counts."
   ]
  },
  {
   "cell_type": "code",
   "execution_count": 26,
   "metadata": {
    "collapsed": true
   },
   "outputs": [],
   "source": [
    "df_final = df_followers.merge(df_images, on = \"shortcode\")"
   ]
  },
  {
   "cell_type": "code",
   "execution_count": 27,
   "metadata": {},
   "outputs": [
    {
     "name": "stdout",
     "output_type": "stream",
     "text": [
      "From Metadata - Number of unique filenames: 8292\n",
      "From Metadata - Number of filenames: 8362\n",
      "Metadata + Followers - Number of unique filenames : 8068\n",
      "Metadata + Followers - Number of filenames: 8280\n"
     ]
    }
   ],
   "source": [
    "print(\"From Metadata - Number of unique filenames: {}\".format(df_images.filename.unique().size))\n",
    "print(\"From Metadata - Number of filenames: {}\".format(df_images.filename.size))\n",
    "print(\"Metadata + Followers - Number of unique filenames : {}\".format(df_final.filename.unique().size))\n",
    "print(\"Metadata + Followers - Number of filenames: {}\".format(df_final.filename.size))"
   ]
  },
  {
   "cell_type": "code",
   "execution_count": 28,
   "metadata": {},
   "outputs": [
    {
     "name": "stdout",
     "output_type": "stream",
     "text": [
      "min: 0.0, max: 5.5\n",
      "normalized - min: 0.0, max: 1.0\n"
     ]
    },
    {
     "data": {
      "text/html": [
       "<div>\n",
       "<style>\n",
       "    .dataframe thead tr:only-child th {\n",
       "        text-align: right;\n",
       "    }\n",
       "\n",
       "    .dataframe thead th {\n",
       "        text-align: left;\n",
       "    }\n",
       "\n",
       "    .dataframe tbody tr th {\n",
       "        vertical-align: top;\n",
       "    }\n",
       "</style>\n",
       "<table border=\"1\" class=\"dataframe\">\n",
       "  <thead>\n",
       "    <tr style=\"text-align: right;\">\n",
       "      <th></th>\n",
       "      <th>Unnamed: 0_x</th>\n",
       "      <th>shortcode</th>\n",
       "      <th>followers</th>\n",
       "      <th>Unnamed: 0_y</th>\n",
       "      <th>height</th>\n",
       "      <th>width</th>\n",
       "      <th>filename</th>\n",
       "      <th>liked_count</th>\n",
       "      <th>insta_id</th>\n",
       "      <th>user_id</th>\n",
       "      <th>tags</th>\n",
       "      <th>timestamp</th>\n",
       "      <th>museum</th>\n",
       "      <th>score</th>\n",
       "      <th>norm_score</th>\n",
       "    </tr>\n",
       "  </thead>\n",
       "  <tbody>\n",
       "    <tr>\n",
       "      <th>0</th>\n",
       "      <td>0</td>\n",
       "      <td>BpmIyI4D1B7</td>\n",
       "      <td>1027</td>\n",
       "      <td>0</td>\n",
       "      <td>1080</td>\n",
       "      <td>1080</td>\n",
       "      <td>43375222_360744377830252_9185063361956096357_n...</td>\n",
       "      <td>7</td>\n",
       "      <td>1902246522487001211</td>\n",
       "      <td>1807804349</td>\n",
       "      <td>['drawing', 'drawingfreemovement', 'lesartsdes...</td>\n",
       "      <td>1540985478</td>\n",
       "      <td>cablausanne</td>\n",
       "      <td>0.006816</td>\n",
       "      <td>0.001239</td>\n",
       "    </tr>\n",
       "    <tr>\n",
       "      <th>4</th>\n",
       "      <td>1</td>\n",
       "      <td>BpmI8l3j0Hj</td>\n",
       "      <td>1027</td>\n",
       "      <td>1</td>\n",
       "      <td>1350</td>\n",
       "      <td>1080</td>\n",
       "      <td>42976666_185886285649615_1276219388339275027_n...</td>\n",
       "      <td>15</td>\n",
       "      <td>1902247240811889123</td>\n",
       "      <td>1807804349</td>\n",
       "      <td>['drawing', 'drawingfreemovement', 'lesartsdes...</td>\n",
       "      <td>1540985563</td>\n",
       "      <td>cablausanne</td>\n",
       "      <td>0.014606</td>\n",
       "      <td>0.002656</td>\n",
       "    </tr>\n",
       "    <tr>\n",
       "      <th>8</th>\n",
       "      <td>2</td>\n",
       "      <td>BpmI3oUDa4D</td>\n",
       "      <td>1027</td>\n",
       "      <td>2</td>\n",
       "      <td>1080</td>\n",
       "      <td>1080</td>\n",
       "      <td>43191815_456314964775007_4913857480498242612_n...</td>\n",
       "      <td>13</td>\n",
       "      <td>1902246899840036355</td>\n",
       "      <td>1807804349</td>\n",
       "      <td>['drawing', 'drawingfreemovement', 'lesartsdes...</td>\n",
       "      <td>1540985523</td>\n",
       "      <td>cablausanne</td>\n",
       "      <td>0.012658</td>\n",
       "      <td>0.002301</td>\n",
       "    </tr>\n",
       "    <tr>\n",
       "      <th>12</th>\n",
       "      <td>3</td>\n",
       "      <td>BpmIpHdD4LG</td>\n",
       "      <td>1027</td>\n",
       "      <td>3</td>\n",
       "      <td>1080</td>\n",
       "      <td>1080</td>\n",
       "      <td>43913715_324577288333877_7336630694004952687_n...</td>\n",
       "      <td>6</td>\n",
       "      <td>1902245902484996806</td>\n",
       "      <td>1807804349</td>\n",
       "      <td>['drawing', 'drawingfreemovement', 'lesartsdes...</td>\n",
       "      <td>1540985404</td>\n",
       "      <td>cablausanne</td>\n",
       "      <td>0.005842</td>\n",
       "      <td>0.001062</td>\n",
       "    </tr>\n",
       "    <tr>\n",
       "      <th>16</th>\n",
       "      <td>4</td>\n",
       "      <td>BpmItgcDxEu</td>\n",
       "      <td>1027</td>\n",
       "      <td>4</td>\n",
       "      <td>1080</td>\n",
       "      <td>1080</td>\n",
       "      <td>44253033_301748290647731_1721608056805115343_n...</td>\n",
       "      <td>6</td>\n",
       "      <td>1902246204189643054</td>\n",
       "      <td>1807804349</td>\n",
       "      <td>['drawing', 'drawingfreemovement', 'lesartsdes...</td>\n",
       "      <td>1540985440</td>\n",
       "      <td>cablausanne</td>\n",
       "      <td>0.005842</td>\n",
       "      <td>0.001062</td>\n",
       "    </tr>\n",
       "  </tbody>\n",
       "</table>\n",
       "</div>"
      ],
      "text/plain": [
       "    Unnamed: 0_x    shortcode  followers  Unnamed: 0_y  height  width  \\\n",
       "0              0  BpmIyI4D1B7       1027             0    1080   1080   \n",
       "4              1  BpmI8l3j0Hj       1027             1    1350   1080   \n",
       "8              2  BpmI3oUDa4D       1027             2    1080   1080   \n",
       "12             3  BpmIpHdD4LG       1027             3    1080   1080   \n",
       "16             4  BpmItgcDxEu       1027             4    1080   1080   \n",
       "\n",
       "                                             filename  liked_count  \\\n",
       "0   43375222_360744377830252_9185063361956096357_n...            7   \n",
       "4   42976666_185886285649615_1276219388339275027_n...           15   \n",
       "8   43191815_456314964775007_4913857480498242612_n...           13   \n",
       "12  43913715_324577288333877_7336630694004952687_n...            6   \n",
       "16  44253033_301748290647731_1721608056805115343_n...            6   \n",
       "\n",
       "               insta_id     user_id  \\\n",
       "0   1902246522487001211  1807804349   \n",
       "4   1902247240811889123  1807804349   \n",
       "8   1902246899840036355  1807804349   \n",
       "12  1902245902484996806  1807804349   \n",
       "16  1902246204189643054  1807804349   \n",
       "\n",
       "                                                 tags   timestamp  \\\n",
       "0   ['drawing', 'drawingfreemovement', 'lesartsdes...  1540985478   \n",
       "4   ['drawing', 'drawingfreemovement', 'lesartsdes...  1540985563   \n",
       "8   ['drawing', 'drawingfreemovement', 'lesartsdes...  1540985523   \n",
       "12  ['drawing', 'drawingfreemovement', 'lesartsdes...  1540985404   \n",
       "16  ['drawing', 'drawingfreemovement', 'lesartsdes...  1540985440   \n",
       "\n",
       "         museum     score  norm_score  \n",
       "0   cablausanne  0.006816    0.001239  \n",
       "4   cablausanne  0.014606    0.002656  \n",
       "8   cablausanne  0.012658    0.002301  \n",
       "12  cablausanne  0.005842    0.001062  \n",
       "16  cablausanne  0.005842    0.001062  "
      ]
     },
     "execution_count": 28,
     "metadata": {},
     "output_type": "execute_result"
    }
   ],
   "source": [
    "df_final.drop_duplicates(subset = [\"shortcode\"], inplace = True)\n",
    "df_final.shortcode.unique().size\n",
    "df_final.shortcode.size\n",
    "df_final['score'] = df_final.liked_count/df_final.followers\n",
    "df_final = df_final[df_final['score'] != float('inf')]\n",
    "print(\"min: {}, max: {}\".format(min(df_final.score), max(df_final.score)))\n",
    "df_final['norm_score'] = (df_final['score'] - min(df_final.score))/(max(df_final.score) - min(df_final.score))\n",
    "print(\"normalized - min: {}, max: {}\".format(min(df_final.norm_score), max(df_final.norm_score)))\n",
    "\n",
    "df_final.head()"
   ]
  },
  {
   "cell_type": "markdown",
   "metadata": {},
   "source": [
    "### Dataframe (df_final) -- existing images merged with metadata images: "
   ]
  },
  {
   "cell_type": "code",
   "execution_count": 30,
   "metadata": {},
   "outputs": [
    {
     "name": "stdout",
     "output_type": "stream",
     "text": [
      "11161\n",
      "11181\n",
      "Number of existing images merged with metadata: 7702\n"
     ]
    }
   ],
   "source": [
    "df_final = df_final.merge(df_imagename, on=\"filename\")\n",
    "print(df_imagename.filename.unique().size)\n",
    "print(df_imagename.filename.size)\n",
    "df_final.filename.unique().size\n",
    "df_final = df_final.sort_values(by = \"score\", ascending=False)[['filename', 'museum', 'score', 'liked_count', 'followers', 'norm_score']]\n",
    "df_final.drop_duplicates(subset = \"filename\", inplace = True)\n",
    "print(\"Number of existing images merged with metadata: {}\".format(df_final.filename.size))\n",
    "df_final.to_csv('./images/training/data/image_data_final.csv')"
   ]
  },
  {
   "cell_type": "code",
   "execution_count": 28,
   "metadata": {
    "collapsed": true
   },
   "outputs": [],
   "source": [
    "df_final.read_csv('./images/training/data/image_data_final.csv')"
   ]
  },
  {
   "cell_type": "code",
   "execution_count": 33,
   "metadata": {},
   "outputs": [
    {
     "data": {
      "text/plain": [
       "7702"
      ]
     },
     "execution_count": 33,
     "metadata": {},
     "output_type": "execute_result"
    }
   ],
   "source": [
    "df.filename.size"
   ]
  },
  {
   "cell_type": "code",
   "execution_count": 31,
   "metadata": {},
   "outputs": [
    {
     "data": {
      "text/html": [
       "<div>\n",
       "<style>\n",
       "    .dataframe thead tr:only-child th {\n",
       "        text-align: right;\n",
       "    }\n",
       "\n",
       "    .dataframe thead th {\n",
       "        text-align: left;\n",
       "    }\n",
       "\n",
       "    .dataframe tbody tr th {\n",
       "        vertical-align: top;\n",
       "    }\n",
       "</style>\n",
       "<table border=\"1\" class=\"dataframe\">\n",
       "  <thead>\n",
       "    <tr style=\"text-align: right;\">\n",
       "      <th></th>\n",
       "      <th>Unnamed: 0</th>\n",
       "      <th>shortcode</th>\n",
       "      <th>followers</th>\n",
       "    </tr>\n",
       "  </thead>\n",
       "  <tbody>\n",
       "    <tr>\n",
       "      <th>0</th>\n",
       "      <td>0</td>\n",
       "      <td>BpmIyI4D1B7</td>\n",
       "      <td>1027</td>\n",
       "    </tr>\n",
       "    <tr>\n",
       "      <th>1</th>\n",
       "      <td>1</td>\n",
       "      <td>BpmI8l3j0Hj</td>\n",
       "      <td>1027</td>\n",
       "    </tr>\n",
       "    <tr>\n",
       "      <th>2</th>\n",
       "      <td>2</td>\n",
       "      <td>BpmI3oUDa4D</td>\n",
       "      <td>1027</td>\n",
       "    </tr>\n",
       "    <tr>\n",
       "      <th>3</th>\n",
       "      <td>3</td>\n",
       "      <td>BpmIpHdD4LG</td>\n",
       "      <td>1027</td>\n",
       "    </tr>\n",
       "    <tr>\n",
       "      <th>4</th>\n",
       "      <td>4</td>\n",
       "      <td>BpmItgcDxEu</td>\n",
       "      <td>1027</td>\n",
       "    </tr>\n",
       "  </tbody>\n",
       "</table>\n",
       "</div>"
      ],
      "text/plain": [
       "   Unnamed: 0    shortcode  followers\n",
       "0           0  BpmIyI4D1B7       1027\n",
       "1           1  BpmI8l3j0Hj       1027\n",
       "2           2  BpmI3oUDa4D       1027\n",
       "3           3  BpmIpHdD4LG       1027\n",
       "4           4  BpmItgcDxEu       1027"
      ]
     },
     "execution_count": 31,
     "metadata": {},
     "output_type": "execute_result"
    }
   ],
   "source": [
    "# Dataframe of follower counts\n",
    "df_followers = pd.read_csv(\"./images/training/data/scraped_follower_counts.csv\")\n",
    "df_followers.head()"
   ]
  },
  {
   "cell_type": "code",
   "execution_count": 32,
   "metadata": {
    "scrolled": true
   },
   "outputs": [
    {
     "data": {
      "text/html": [
       "<div>\n",
       "<style>\n",
       "    .dataframe thead tr:only-child th {\n",
       "        text-align: right;\n",
       "    }\n",
       "\n",
       "    .dataframe thead th {\n",
       "        text-align: left;\n",
       "    }\n",
       "\n",
       "    .dataframe tbody tr th {\n",
       "        vertical-align: top;\n",
       "    }\n",
       "</style>\n",
       "<table border=\"1\" class=\"dataframe\">\n",
       "  <thead>\n",
       "    <tr style=\"text-align: right;\">\n",
       "      <th></th>\n",
       "      <th>Unnamed: 0</th>\n",
       "      <th>height</th>\n",
       "      <th>width</th>\n",
       "      <th>filename</th>\n",
       "      <th>liked_count</th>\n",
       "      <th>insta_id</th>\n",
       "      <th>user_id</th>\n",
       "      <th>shortcode</th>\n",
       "      <th>tags</th>\n",
       "      <th>timestamp</th>\n",
       "      <th>museum</th>\n",
       "    </tr>\n",
       "  </thead>\n",
       "  <tbody>\n",
       "    <tr>\n",
       "      <th>0</th>\n",
       "      <td>0</td>\n",
       "      <td>1080</td>\n",
       "      <td>1080</td>\n",
       "      <td>43375222_360744377830252_9185063361956096357_n...</td>\n",
       "      <td>7</td>\n",
       "      <td>1902246522487001211</td>\n",
       "      <td>1807804349</td>\n",
       "      <td>BpmIyI4D1B7</td>\n",
       "      <td>['drawing', 'drawingfreemovement', 'lesartsdes...</td>\n",
       "      <td>1540985478</td>\n",
       "      <td>cablausanne</td>\n",
       "    </tr>\n",
       "    <tr>\n",
       "      <th>1</th>\n",
       "      <td>1</td>\n",
       "      <td>1350</td>\n",
       "      <td>1080</td>\n",
       "      <td>42976666_185886285649615_1276219388339275027_n...</td>\n",
       "      <td>15</td>\n",
       "      <td>1902247240811889123</td>\n",
       "      <td>1807804349</td>\n",
       "      <td>BpmI8l3j0Hj</td>\n",
       "      <td>['drawing', 'drawingfreemovement', 'lesartsdes...</td>\n",
       "      <td>1540985563</td>\n",
       "      <td>cablausanne</td>\n",
       "    </tr>\n",
       "    <tr>\n",
       "      <th>2</th>\n",
       "      <td>2</td>\n",
       "      <td>1080</td>\n",
       "      <td>1080</td>\n",
       "      <td>43191815_456314964775007_4913857480498242612_n...</td>\n",
       "      <td>13</td>\n",
       "      <td>1902246899840036355</td>\n",
       "      <td>1807804349</td>\n",
       "      <td>BpmI3oUDa4D</td>\n",
       "      <td>['drawing', 'drawingfreemovement', 'lesartsdes...</td>\n",
       "      <td>1540985523</td>\n",
       "      <td>cablausanne</td>\n",
       "    </tr>\n",
       "    <tr>\n",
       "      <th>3</th>\n",
       "      <td>3</td>\n",
       "      <td>1080</td>\n",
       "      <td>1080</td>\n",
       "      <td>43913715_324577288333877_7336630694004952687_n...</td>\n",
       "      <td>6</td>\n",
       "      <td>1902245902484996806</td>\n",
       "      <td>1807804349</td>\n",
       "      <td>BpmIpHdD4LG</td>\n",
       "      <td>['drawing', 'drawingfreemovement', 'lesartsdes...</td>\n",
       "      <td>1540985404</td>\n",
       "      <td>cablausanne</td>\n",
       "    </tr>\n",
       "    <tr>\n",
       "      <th>4</th>\n",
       "      <td>4</td>\n",
       "      <td>1080</td>\n",
       "      <td>1080</td>\n",
       "      <td>44253033_301748290647731_1721608056805115343_n...</td>\n",
       "      <td>6</td>\n",
       "      <td>1902246204189643054</td>\n",
       "      <td>1807804349</td>\n",
       "      <td>BpmItgcDxEu</td>\n",
       "      <td>['drawing', 'drawingfreemovement', 'lesartsdes...</td>\n",
       "      <td>1540985440</td>\n",
       "      <td>cablausanne</td>\n",
       "    </tr>\n",
       "  </tbody>\n",
       "</table>\n",
       "</div>"
      ],
      "text/plain": [
       "   Unnamed: 0  height  width  \\\n",
       "0           0    1080   1080   \n",
       "1           1    1350   1080   \n",
       "2           2    1080   1080   \n",
       "3           3    1080   1080   \n",
       "4           4    1080   1080   \n",
       "\n",
       "                                            filename  liked_count  \\\n",
       "0  43375222_360744377830252_9185063361956096357_n...            7   \n",
       "1  42976666_185886285649615_1276219388339275027_n...           15   \n",
       "2  43191815_456314964775007_4913857480498242612_n...           13   \n",
       "3  43913715_324577288333877_7336630694004952687_n...            6   \n",
       "4  44253033_301748290647731_1721608056805115343_n...            6   \n",
       "\n",
       "              insta_id     user_id    shortcode  \\\n",
       "0  1902246522487001211  1807804349  BpmIyI4D1B7   \n",
       "1  1902247240811889123  1807804349  BpmI8l3j0Hj   \n",
       "2  1902246899840036355  1807804349  BpmI3oUDa4D   \n",
       "3  1902245902484996806  1807804349  BpmIpHdD4LG   \n",
       "4  1902246204189643054  1807804349  BpmItgcDxEu   \n",
       "\n",
       "                                                tags   timestamp       museum  \n",
       "0  ['drawing', 'drawingfreemovement', 'lesartsdes...  1540985478  cablausanne  \n",
       "1  ['drawing', 'drawingfreemovement', 'lesartsdes...  1540985563  cablausanne  \n",
       "2  ['drawing', 'drawingfreemovement', 'lesartsdes...  1540985523  cablausanne  \n",
       "3  ['drawing', 'drawingfreemovement', 'lesartsdes...  1540985404  cablausanne  \n",
       "4  ['drawing', 'drawingfreemovement', 'lesartsdes...  1540985440  cablausanne  "
      ]
     },
     "execution_count": 32,
     "metadata": {},
     "output_type": "execute_result"
    }
   ],
   "source": [
    "# Dataframe of metadata\n",
    "df_images = pd.read_csv(\"./images/training/data/merged_metadata.csv\")\n",
    "df_images.head()"
   ]
  },
  {
   "cell_type": "code",
   "execution_count": 34,
   "metadata": {},
   "outputs": [
    {
     "data": {
      "text/html": [
       "<div>\n",
       "<style>\n",
       "    .dataframe thead tr:only-child th {\n",
       "        text-align: right;\n",
       "    }\n",
       "\n",
       "    .dataframe thead th {\n",
       "        text-align: left;\n",
       "    }\n",
       "\n",
       "    .dataframe tbody tr th {\n",
       "        vertical-align: top;\n",
       "    }\n",
       "</style>\n",
       "<table border=\"1\" class=\"dataframe\">\n",
       "  <thead>\n",
       "    <tr style=\"text-align: right;\">\n",
       "      <th></th>\n",
       "      <th>Unnamed: 0</th>\n",
       "      <th>filename</th>\n",
       "      <th>museum</th>\n",
       "      <th>score</th>\n",
       "      <th>liked_count</th>\n",
       "      <th>followers</th>\n",
       "      <th>norm_score</th>\n",
       "    </tr>\n",
       "  </thead>\n",
       "  <tbody>\n",
       "    <tr>\n",
       "      <th>0</th>\n",
       "      <td>0</td>\n",
       "      <td>10643895_351134671757704_1580281853_n.jpg</td>\n",
       "      <td>olympicmuseum</td>\n",
       "      <td>5.500000</td>\n",
       "      <td>11</td>\n",
       "      <td>2</td>\n",
       "      <td>1.000000</td>\n",
       "    </tr>\n",
       "    <tr>\n",
       "      <th>1</th>\n",
       "      <td>1</td>\n",
       "      <td>21689448_159316801317448_8056597609155919872_n...</td>\n",
       "      <td>hermitage_lausanne</td>\n",
       "      <td>4.000000</td>\n",
       "      <td>60</td>\n",
       "      <td>15</td>\n",
       "      <td>0.727273</td>\n",
       "    </tr>\n",
       "    <tr>\n",
       "      <th>2</th>\n",
       "      <td>2</td>\n",
       "      <td>38481848_182395105874863_2128305798684606464_n...</td>\n",
       "      <td>olympicmuseum</td>\n",
       "      <td>3.142857</td>\n",
       "      <td>22</td>\n",
       "      <td>7</td>\n",
       "      <td>0.571429</td>\n",
       "    </tr>\n",
       "    <tr>\n",
       "      <th>3</th>\n",
       "      <td>3</td>\n",
       "      <td>42186745_148035649484120_738291455511040130_n.jpg</td>\n",
       "      <td>olympicmuseum</td>\n",
       "      <td>2.375000</td>\n",
       "      <td>19</td>\n",
       "      <td>8</td>\n",
       "      <td>0.431818</td>\n",
       "    </tr>\n",
       "    <tr>\n",
       "      <th>4</th>\n",
       "      <td>4</td>\n",
       "      <td>13712125_1103474473079329_975621396_n.jpg</td>\n",
       "      <td>olympicmuseum</td>\n",
       "      <td>2.107143</td>\n",
       "      <td>59</td>\n",
       "      <td>28</td>\n",
       "      <td>0.383117</td>\n",
       "    </tr>\n",
       "  </tbody>\n",
       "</table>\n",
       "</div>"
      ],
      "text/plain": [
       "   Unnamed: 0                                           filename  \\\n",
       "0           0          10643895_351134671757704_1580281853_n.jpg   \n",
       "1           1  21689448_159316801317448_8056597609155919872_n...   \n",
       "2           2  38481848_182395105874863_2128305798684606464_n...   \n",
       "3           3  42186745_148035649484120_738291455511040130_n.jpg   \n",
       "4           4          13712125_1103474473079329_975621396_n.jpg   \n",
       "\n",
       "               museum     score  liked_count  followers  norm_score  \n",
       "0       olympicmuseum  5.500000           11          2    1.000000  \n",
       "1  hermitage_lausanne  4.000000           60         15    0.727273  \n",
       "2       olympicmuseum  3.142857           22          7    0.571429  \n",
       "3       olympicmuseum  2.375000           19          8    0.431818  \n",
       "4       olympicmuseum  2.107143           59         28    0.383117  "
      ]
     },
     "execution_count": 34,
     "metadata": {},
     "output_type": "execute_result"
    }
   ],
   "source": [
    "# Final dataframe of images that are existing and have follower counts and metadata\n",
    "df_final = pd.read_csv('./images/training/data/image_data_final.csv')\n",
    "df_final.head()"
   ]
  },
  {
   "cell_type": "code",
   "execution_count": null,
   "metadata": {
    "collapsed": true
   },
   "outputs": [],
   "source": []
  }
 ],
 "metadata": {
  "kernelspec": {
   "display_name": "uex_submission",
   "language": "python",
   "name": "uex_submission"
  },
  "language_info": {
   "codemirror_mode": {
    "name": "ipython",
    "version": 3
   },
   "file_extension": ".py",
   "mimetype": "text/x-python",
   "name": "python",
   "nbconvert_exporter": "python",
   "pygments_lexer": "ipython3",
   "version": "3.5.2"
  }
 },
 "nbformat": 4,
 "nbformat_minor": 2
}
